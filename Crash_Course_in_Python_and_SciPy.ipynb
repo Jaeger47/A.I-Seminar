{
  "nbformat": 4,
  "nbformat_minor": 0,
  "metadata": {
    "colab": {
      "name": "Crash_Course_in_Python_and_SciPy.ipynb",
      "provenance": [],
      "collapsed_sections": [
        "oUoXaHkPJHtX",
        "K0_n9nrPJnkO",
        "Yu-5GJ3CLmPW",
        "JcyTC6hNMi6_",
        "SJdug4pzM2bH",
        "PkI08L-7M9M9",
        "8p2meV33Na4G",
        "JXUwvpECJ-_G",
        "7ORH86i5Nx5F",
        "P871GgLXN2Gl",
        "B1bAWhxcKGx3",
        "gdT-46LPQOPO",
        "hGKz8OTbQg62",
        "yd9ruo36Qh71",
        "RWDOgrZSKLse",
        "VxEFQkClKOWn",
        "ZkL1wFAhTqgm",
        "oi57m4eYUJdK",
        "bwYUMnZKVPf-",
        "nsxo0Wh-Werk",
        "QGRgoErTXYdV",
        "astD6a1eXqnc",
        "8rn0PAl9Ybj9",
        "JAfaa-oYY2FN",
        "9EHiKWSMZoKU"
      ],
      "include_colab_link": true
    },
    "kernelspec": {
      "name": "python3",
      "display_name": "Python 3"
    },
    "language_info": {
      "name": "python"
    }
  },
  "cells": [
    {
      "cell_type": "markdown",
      "metadata": {
        "id": "view-in-github",
        "colab_type": "text"
      },
      "source": [
        "<a href=\"https://colab.research.google.com/github/Jaeger47/A.I-Seminar/blob/main/Crash_Course_in_Python_and_SciPy.ipynb\" target=\"_parent\"><img src=\"https://colab.research.google.com/assets/colab-badge.svg\" alt=\"Open In Colab\"/></a>"
      ]
    },
    {
      "cell_type": "markdown",
      "metadata": {
        "id": "aAtvJ9iaHTH1"
      },
      "source": [
        "# Crash Course in Python and SciPy\n",
        "**Python** is a general purpose interpreted programming language. **SciPy** is an ecosystem of Python libraries for mathematics, science, and engineering. The SciPy ecosystem is comprised of the following core modules relevant to machine learning.\n",
        "\n",
        "\n",
        "*   **Numpy**: A foundation for SciPy that allows you to efficiently work with data in arrays.\n",
        "*   **Matplotlib**: Allows you to create 2D charts and plots from data.\n",
        "*   **Pandas**: Tools and data structures to organize and analyze your data.\n",
        "\n",
        "<br><br>\n",
        "After completing this crash course, you will learn:\n",
        "\n",
        "\n",
        "1.   How to navigate Python language syntax.\n",
        "2.   Enough NumPy, Matplotlib and Pandas to read and write machine learning scripts.\n",
        "3.   A foundation from which to build a deeper understanding of machine learning tasks in Python.\n",
        "\n",
        "\n"
      ]
    },
    {
      "cell_type": "markdown",
      "metadata": {
        "id": "oUoXaHkPJHtX"
      },
      "source": [
        "# 1. Python\n",
        "\n"
      ]
    },
    {
      "cell_type": "markdown",
      "metadata": {
        "id": "kGmFcGs-9mIU"
      },
      "source": [
        "When getting started in Python, you need to know a few key details about the language syntax such as:"
      ]
    },
    {
      "cell_type": "markdown",
      "metadata": {
        "id": "K0_n9nrPJnkO"
      },
      "source": [
        "## 1.1. Assignment\n",
        "Assignment means assigning values to variables."
      ]
    },
    {
      "cell_type": "markdown",
      "metadata": {
        "id": "Yu-5GJ3CLmPW"
      },
      "source": [
        "### 1.1.1. Strings"
      ]
    },
    {
      "cell_type": "code",
      "metadata": {
        "id": "LXb4vfKOKER2"
      },
      "source": [
        "data = 'hello world'\n",
        "print(data[0])     # ?\n",
        "print(len(data))   # ?\n",
        "print(data)        # ?"
      ],
      "execution_count": null,
      "outputs": []
    },
    {
      "cell_type": "markdown",
      "metadata": {
        "id": "JcyTC6hNMi6_"
      },
      "source": [
        "### 1.1.2. Numbers"
      ]
    },
    {
      "cell_type": "code",
      "metadata": {
        "id": "reKX_Ad3MtSG"
      },
      "source": [
        "value = 123.1\n",
        "print(value)      # ?\n",
        "value = 10\n",
        "print(value)      # ?"
      ],
      "execution_count": null,
      "outputs": []
    },
    {
      "cell_type": "markdown",
      "metadata": {
        "id": "SJdug4pzM2bH"
      },
      "source": [
        "### 1.1.3. Boolean"
      ]
    },
    {
      "cell_type": "code",
      "metadata": {
        "id": "RDDeZ2g1M1wW"
      },
      "source": [
        "a = True\n",
        "b = False\n",
        "print(a, b)     # ?"
      ],
      "execution_count": null,
      "outputs": []
    },
    {
      "cell_type": "markdown",
      "metadata": {
        "id": "PkI08L-7M9M9"
      },
      "source": [
        "### 1.1.4. Multiple assignment"
      ]
    },
    {
      "cell_type": "code",
      "metadata": {
        "id": "2OW7vKU4M80m"
      },
      "source": [
        "a, b, c = 1, 2, 3\n",
        "print(a, b, c)       # ?"
      ],
      "execution_count": null,
      "outputs": []
    },
    {
      "cell_type": "markdown",
      "metadata": {
        "id": "8p2meV33Na4G"
      },
      "source": [
        "### 1.1.5. No value"
      ]
    },
    {
      "cell_type": "code",
      "metadata": {
        "id": "oYo_-AHSNbH-"
      },
      "source": [
        "a = None\n",
        "print(a)   # ?"
      ],
      "execution_count": null,
      "outputs": []
    },
    {
      "cell_type": "markdown",
      "metadata": {
        "id": "JXUwvpECJ-_G"
      },
      "source": [
        "## 1.2. Flow Control\n",
        "There are three main types of flow control that  you need to learn:"
      ]
    },
    {
      "cell_type": "markdown",
      "metadata": {
        "id": "--uUdmguNtUP"
      },
      "source": [
        "### 1.2.1. If-Then-Else Conditional"
      ]
    },
    {
      "cell_type": "code",
      "metadata": {
        "id": "V0-5kO5sElS7"
      },
      "source": [
        "value = 99\n",
        "if value == 99:\n",
        "  print ('That is fast')\n",
        "elif value > 200:\n",
        "  print ('That is too fast')\n",
        "else:\n",
        "  print ('That is safe')"
      ],
      "execution_count": null,
      "outputs": []
    },
    {
      "cell_type": "markdown",
      "metadata": {
        "id": "7ORH86i5Nx5F"
      },
      "source": [
        "### 1.2.2. For-Loops"
      ]
    },
    {
      "cell_type": "code",
      "metadata": {
        "id": "kXfAiH0hN1TG"
      },
      "source": [
        "for i in range(10):\n",
        "  print (i)"
      ],
      "execution_count": null,
      "outputs": []
    },
    {
      "cell_type": "markdown",
      "metadata": {
        "id": "P871GgLXN2Gl"
      },
      "source": [
        "### 1.2.3. While-Loops"
      ]
    },
    {
      "cell_type": "code",
      "metadata": {
        "id": "7MOXffPiN5bF"
      },
      "source": [
        "i = 0\n",
        "while i < 10:\n",
        "  print (i)\n",
        "  i += 1"
      ],
      "execution_count": null,
      "outputs": []
    },
    {
      "cell_type": "markdown",
      "metadata": {
        "id": "B1bAWhxcKGx3"
      },
      "source": [
        "## 1.3. Data Structures\n",
        "There are three data structures in Python that you will find the most used and useful. They are:"
      ]
    },
    {
      "cell_type": "markdown",
      "metadata": {
        "id": "gdT-46LPQOPO"
      },
      "source": [
        "### 1.3.1. Tuple\n",
        "- is a read-only collection of items."
      ]
    },
    {
      "cell_type": "code",
      "metadata": {
        "id": "a2OUQno8KKw2"
      },
      "source": [
        "a = (1, 2, 3)\n",
        "print (a)"
      ],
      "execution_count": null,
      "outputs": []
    },
    {
      "cell_type": "markdown",
      "metadata": {
        "id": "hGKz8OTbQg62"
      },
      "source": [
        "### 1.3.2. List\n",
        "- uses the square bracket notation and can be index using array notation."
      ]
    },
    {
      "cell_type": "code",
      "metadata": {
        "id": "xsU_JYemQhc9"
      },
      "source": [
        "mylist = [1, 2, 3]\n",
        "\n",
        "print((\"Zeroth Value: %d\") % mylist[0])\n",
        "print((\"Last Value: %d\") % mylist[-1])\n",
        "print((\"List Length: %d\") % len(mylist))\n",
        "\n",
        "for value in mylist:\n",
        "  print (value)"
      ],
      "execution_count": null,
      "outputs": []
    },
    {
      "cell_type": "code",
      "metadata": {
        "id": "9oU7j4nfRFo1"
      },
      "source": [
        "mylist.append(4)\n",
        "\n",
        "print((\"Zeroth Value: %d\") % mylist[0])\n",
        "print((\"Last Value: %d\") % mylist[-1])\n",
        "print((\"List Length: %d\") % len(mylist))\n",
        "\n",
        "for value in mylist:\n",
        "  print (value)"
      ],
      "execution_count": null,
      "outputs": []
    },
    {
      "cell_type": "markdown",
      "metadata": {
        "id": "yd9ruo36Qh71"
      },
      "source": [
        "### 1.3.3. Dictionary\n",
        "- is a mapping of names to values, like key-value pairs. Note the use of the curly bracket and colon notations when defining the dictionary."
      ]
    },
    {
      "cell_type": "code",
      "metadata": {
        "id": "cB_d6VoGQiSF"
      },
      "source": [
        "mydict = {'a': 1, 'b': 2, 'c': 3}        # Assigning a value to a dictionary\n",
        "print((\"A value: %d\") % mydict['a'])\n",
        "\n",
        "mydict['a'] = 11                         # Updating value of a key\n",
        "print((\"A value: %d\") % mydict['a'])\n",
        "\n",
        "print((\"Keys: %s\") % mydict.keys())       \n",
        "print((\"Values: %s\") % mydict.values())\n",
        "\n",
        "for key in mydict.keys():\n",
        "  print (mydict[key])"
      ],
      "execution_count": null,
      "outputs": []
    },
    {
      "cell_type": "markdown",
      "metadata": {
        "id": "RWDOgrZSKLse"
      },
      "source": [
        "## 1.4. Functions\n",
        "The biggest gotcha with Python is the **whitespace**. Ensure that you have an empty new line after indented code. The example below defines a new function to calculate the sum of two values and calls the function with two arguments."
      ]
    },
    {
      "cell_type": "code",
      "metadata": {
        "id": "7YZfCdPeKNdW",
        "outputId": "aeeda54a-1b69-4970-8161-e62521a01d01",
        "colab": {
          "base_uri": "https://localhost:8080/"
        }
      },
      "source": [
        "# Sum function\n",
        "def mysum(x, y):\n",
        "  return (x + y)\n",
        "\n",
        "# Test sum function\n",
        "result = mysum(1, 3)\n",
        "print(result)"
      ],
      "execution_count": 1,
      "outputs": [
        {
          "output_type": "stream",
          "text": [
            "4\n"
          ],
          "name": "stdout"
        }
      ]
    },
    {
      "cell_type": "markdown",
      "metadata": {
        "id": "VxEFQkClKOWn"
      },
      "source": [
        "# 2. NumPy"
      ]
    },
    {
      "cell_type": "markdown",
      "metadata": {
        "id": "Gkq9BCp09xLF"
      },
      "source": [
        "NumPy provides the foundation data structures and operations for SciPy. These are arrays (*ndarrays*) that are efficient to define and manipulate."
      ]
    },
    {
      "cell_type": "code",
      "metadata": {
        "id": "qKYgSRE8WBy0"
      },
      "source": [
        "import numpy as np     # import NumPy package once"
      ],
      "execution_count": 3,
      "outputs": []
    },
    {
      "cell_type": "markdown",
      "metadata": {
        "id": "ZkL1wFAhTqgm"
      },
      "source": [
        "## 2.1. Create Array"
      ]
    },
    {
      "cell_type": "code",
      "metadata": {
        "id": "wBgMB5taKV52",
        "outputId": "c9aeda3b-a610-4123-8583-b916bf968eb6",
        "colab": {
          "base_uri": "https://localhost:8080/"
        }
      },
      "source": [
        "# define an array\n",
        "mylist = [1, 2, 3]\n",
        "myarray = np.array(mylist)\n",
        "print(myarray)\n",
        "print(myarray.shape)  \n",
        "\n",
        "# Does List data structure have a 'shape' method?"
      ],
      "execution_count": 4,
      "outputs": [
        {
          "output_type": "stream",
          "text": [
            "[1 2 3]\n",
            "(3,)\n"
          ],
          "name": "stdout"
        }
      ]
    },
    {
      "cell_type": "markdown",
      "metadata": {
        "id": "oi57m4eYUJdK"
      },
      "source": [
        "## 2.2. Access Data\n",
        "Array notations and ranges can be used to efficiently access data in a NumPy array."
      ]
    },
    {
      "cell_type": "code",
      "metadata": {
        "id": "_Oyl3ryOUDPr"
      },
      "source": [
        "# access values\n",
        "mylist = [[1, 2, 3], [3, 4, 5]]      # 2D list -> matrix\n",
        "myarray = np.array(mylist)\n",
        "\n",
        "print(myarray)\n",
        "# print(myarray.shape)       # Note, uncomment line to print \n",
        "\n",
        "# print((\"First row: %s\") % myarray[0])\n",
        "# print((\"Last row: %s\") % myarray[-1])\n",
        "# print((\"Specific row and col: %s\") % myarray[0, 2])\n",
        "# print((\"Whole col: %s\") % myarray[:, 2])"
      ],
      "execution_count": null,
      "outputs": []
    },
    {
      "cell_type": "markdown",
      "metadata": {
        "id": "bwYUMnZKVPf-"
      },
      "source": [
        "## 2.3. Arithmetic\n",
        "NumPy arrays can be used directly in arithmetic."
      ]
    },
    {
      "cell_type": "code",
      "metadata": {
        "id": "67TxtNbWU1mW",
        "outputId": "a55bf0f6-474a-4d08-9901-0071d419f979",
        "colab": {
          "base_uri": "https://localhost:8080/"
        }
      },
      "source": [
        "myarray1 = np.array([2, 2, 2])\n",
        "myarray2 = np.array([3, 3, 3])\n",
        "\n",
        "print((\"Addition: %s\") % (myarray1 + myarray2))\n",
        "print((\"Multiplication: %s\") % (myarray1 * myarray2))"
      ],
      "execution_count": 5,
      "outputs": [
        {
          "output_type": "stream",
          "text": [
            "Addition: [5 5 5]\n",
            "Multiplication: [6 6 6]\n"
          ],
          "name": "stdout"
        }
      ]
    },
    {
      "cell_type": "markdown",
      "metadata": {
        "id": "nsxo0Wh-Werk"
      },
      "source": [
        "# 3. Matplotlib\n",
        "\n"
      ]
    },
    {
      "cell_type": "markdown",
      "metadata": {
        "id": "strolTQm92mz"
      },
      "source": [
        "Matplotlib can be use for creating plots and charts. The library is generally used as follows:\n",
        "\n",
        "\n",
        "*   Call a plotting function with some data (e.g. **.plot( )** ).\n",
        "*   Call many functions to setup the properties of the plot (e.g. labels and colors).\n",
        "*   Make the plot visible (e.g. **.show( )** )."
      ]
    },
    {
      "cell_type": "code",
      "metadata": {
        "id": "OBd8efBIWiB8"
      },
      "source": [
        "import matplotlib.pyplot as plt          # import Matplotlib package once"
      ],
      "execution_count": 6,
      "outputs": []
    },
    {
      "cell_type": "markdown",
      "metadata": {
        "id": "QGRgoErTXYdV"
      },
      "source": [
        "## 3.1. Line Plot\n",
        "The example below creates a simple line plot from one dimensional data.\n"
      ]
    },
    {
      "cell_type": "code",
      "metadata": {
        "id": "8OI-bQsYXWaW"
      },
      "source": [
        "myarray = np.array([1, 2, 3])     # note, we use NumPy to create an array\n",
        "plt.plot(myarray)                 # this is how you call basic line plot\n",
        "plt.xlabel('some x axis')\n",
        "plt.ylabel('some y axis')\n",
        "plt.show()"
      ],
      "execution_count": null,
      "outputs": []
    },
    {
      "cell_type": "markdown",
      "metadata": {
        "id": "astD6a1eXqnc"
      },
      "source": [
        "## 3.2. Scatter Plot\n",
        "Below is a simple example of creating a scatter plot from two dimensional data."
      ]
    },
    {
      "cell_type": "code",
      "metadata": {
        "id": "rUS0Ef1BXnGt"
      },
      "source": [
        "x = np.array([1, 2, 3])\n",
        "y = np.array([2, 4, 6])\n",
        "\n",
        "plt.scatter(x,y)              # this is how you call a basic scatter plot\n",
        "plt.xlabel('some x axis')\n",
        "plt.ylabel('some y axis')\n",
        "plt.show()"
      ],
      "execution_count": null,
      "outputs": []
    },
    {
      "cell_type": "markdown",
      "metadata": {
        "id": "8rn0PAl9Ybj9"
      },
      "source": [
        "# 4. Pandas"
      ]
    },
    {
      "cell_type": "markdown",
      "metadata": {
        "id": "cwxX5DVz95bs"
      },
      "source": [
        "Pandas provides data structures and functionality to quickly manipulate and analyze data. The key to understanding Pandas for machine learning is understanding the Series and DataFrame data structures."
      ]
    },
    {
      "cell_type": "code",
      "metadata": {
        "id": "QuNvcCicYe7U"
      },
      "source": [
        "import pandas as pd        # import Pandas package once"
      ],
      "execution_count": 7,
      "outputs": []
    },
    {
      "cell_type": "markdown",
      "metadata": {
        "id": "JAfaa-oYY2FN"
      },
      "source": [
        "## 4.1. Series\n",
        "A series is a one dimensional array where the rows and columns can be labeled."
      ]
    },
    {
      "cell_type": "code",
      "metadata": {
        "id": "Qrnwf9vVZAjd",
        "outputId": "88d9d629-87d2-4960-addf-657fe99036b9",
        "colab": {
          "base_uri": "https://localhost:8080/"
        }
      },
      "source": [
        "myarray = np.array([1, 2, 3])\n",
        "rownames = ['a', 'b', 'c']\n",
        "myseries = pd.Series(myarray, index=rownames)\n",
        "print(myseries)"
      ],
      "execution_count": 8,
      "outputs": [
        {
          "output_type": "stream",
          "text": [
            "a    1\n",
            "b    2\n",
            "c    3\n",
            "dtype: int64\n"
          ],
          "name": "stdout"
        }
      ]
    },
    {
      "cell_type": "markdown",
      "metadata": {
        "id": "BetW5xlQZNTz"
      },
      "source": [
        "You can access the data in a series like a NumPy array and like a dictionary, for example:"
      ]
    },
    {
      "cell_type": "code",
      "metadata": {
        "id": "xlXJxRPqZKqE",
        "outputId": "39c4a8b0-a910-4f93-94a8-7f4acddcecbb",
        "colab": {
          "base_uri": "https://localhost:8080/"
        }
      },
      "source": [
        "print(myseries[0])        # use of INDEX: accessing Pandas Series like a NumPy array\n",
        "print(myseries['a'])      # use of KEY: accessing Pandas Series like a dictionary"
      ],
      "execution_count": 9,
      "outputs": [
        {
          "output_type": "stream",
          "text": [
            "1\n",
            "1\n"
          ],
          "name": "stdout"
        }
      ]
    },
    {
      "cell_type": "markdown",
      "metadata": {
        "id": "9EHiKWSMZoKU"
      },
      "source": [
        "## 4.2. DataFrame\n",
        "A data frame is a multi-dimensional array where the rows and the columns can be labeled."
      ]
    },
    {
      "cell_type": "code",
      "metadata": {
        "id": "H9IiIcoLZjs1",
        "outputId": "4fc9020b-4129-4a6d-c0d4-f61d6b7064f3",
        "colab": {
          "base_uri": "https://localhost:8080/"
        }
      },
      "source": [
        "myarray = np.array([[1, 2, 3], [4, 5, 6]])\n",
        "rownames = ['a', 'b']\n",
        "colnames = ['one', 'two', 'three']\n",
        "mydataframe = pd.DataFrame(myarray, index=rownames, columns=colnames)\n",
        "print(mydataframe)"
      ],
      "execution_count": 10,
      "outputs": [
        {
          "output_type": "stream",
          "text": [
            "   one  two  three\n",
            "a    1    2      3\n",
            "b    4    5      6\n"
          ],
          "name": "stdout"
        }
      ]
    },
    {
      "cell_type": "markdown",
      "metadata": {
        "id": "LUi4WyrAZ50Q"
      },
      "source": [
        "Data can be index using column names. "
      ]
    },
    {
      "cell_type": "code",
      "metadata": {
        "id": "S1kwzqpAZ21r",
        "outputId": "4083acb1-a436-4eee-f7fd-2b7414ac0545",
        "colab": {
          "base_uri": "https://localhost:8080/"
        }
      },
      "source": [
        "print(\"method 1:\")\n",
        "print((\"one column: \\n%s\") % mydataframe['one'])\n",
        "\n",
        "# print(\"\\nmethod 2:\")                              # uncomment lines to print \n",
        "# print((\"one column: \\n%s\") % mydataframe.one)"
      ],
      "execution_count": 11,
      "outputs": [
        {
          "output_type": "stream",
          "text": [
            "method 1:\n",
            "one column: \n",
            "a    1\n",
            "b    4\n",
            "Name: one, dtype: int64\n"
          ],
          "name": "stdout"
        }
      ]
    }
  ]
}