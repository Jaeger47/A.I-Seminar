{
  "nbformat": 4,
  "nbformat_minor": 0,
  "metadata": {
    "colab": {
      "name": "2.1.4 Prepare your Data for Machine Learning.ipynb",
      "provenance": [],
      "collapsed_sections": [
        "yUeNCDRudPvK",
        "Hz2X4c9CfQ1J",
        "GNqGi918fUXH",
        "7yGt_gO6fXQn",
        "bvazyO2FfZxf",
        "MyVUXgnt9Urp",
        "RSt6RSTbnyId"
      ],
      "include_colab_link": true
    },
    "kernelspec": {
      "name": "python3",
      "display_name": "Python 3"
    },
    "language_info": {
      "name": "python"
    }
  },
  "cells": [
    {
      "cell_type": "markdown",
      "metadata": {
        "id": "view-in-github",
        "colab_type": "text"
      },
      "source": [
        "<a href=\"https://colab.research.google.com/github/Jaeger47/A.I-Seminar/blob/main/2_1_4_Prepare_your_Data_for_Machine_Learning.ipynb\" target=\"_parent\"><img src=\"https://colab.research.google.com/assets/colab-badge.svg\" alt=\"Open In Colab\"/></a>"
      ]
    },
    {
      "cell_type": "markdown",
      "metadata": {
        "id": "yUeNCDRudPvK"
      },
      "source": [
        "# Prepare your Data for Machine Learning\n",
        "Many machine learning algorithms make assumptions about your data. It is often a very good idea to prepare your data in such way to best expose the structure of the problem to the machine learning algorithms that you intend to use. In this notebook, you will discover how to prepare your data for machine learning in Python using `scikit-learn`. \n",
        "\n",
        "In this notebook, we will use the Pima Indian diabetes dataset for each data-processing transforms for machine learning. Each recipe follows the same strucure:\n",
        "\n",
        "\n",
        "*   Uploading data from Local File System.\n",
        "*   Split the dataset into the input and output variables for machine learning.\n",
        "*   Apply a pre-processing transform to the input variables.\n",
        "*   Summarize the data to show the change.\n",
        "\n",
        "\n",
        "After completing this notebook, you will learn the pre-processing transforms which are:"
      ]
    },
    {
      "cell_type": "markdown",
      "metadata": {
        "id": "Hz2X4c9CfQ1J"
      },
      "source": [
        "## 1. Rescale Data"
      ]
    },
    {
      "cell_type": "markdown",
      "metadata": {
        "id": "cl_06RhQgH9n"
      },
      "source": [
        "When your data is comprised of attributes with varying scales, many machine learning algorithms can benefit from rescaling the attributes to all have the same scale. Often this is referred to as normalization and attributes are often rescaled into the range between 0 and 1. \n",
        "\n",
        "<br>\n",
        "A value is normalized as follows: \n",
        "\n",
        "$y = \\frac{x - min}{max - min}$\n",
        "\n",
        "This is useful for optimization algorithms used in the core of machine learning algorithms like gradient descent. It is also useful for algorithms that weight inputs like regression and neural networks and algorithms that use distance measures like k-Nearest Neighbors. You can rescale your data using scikit-learn using the [MinMaxScaler](http://scikit-learn.org/stable/modules/generated/sklearn.preprocessing.MinMaxScaler.html) class.\n",
        "\n"
      ]
    },
    {
      "cell_type": "code",
      "metadata": {
        "id": "rsY9Hd3OL7rv",
        "outputId": "5967cde7-375c-408d-ca64-63ede190c53c",
        "colab": {
          "resources": {
            "http://localhost:8080/nbextensions/google.colab/files.js": {
              "data": "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",
              "ok": true,
              "headers": [
                [
                  "content-type",
                  "application/javascript"
                ]
              ],
              "status": 200,
              "status_text": ""
            }
          },
          "base_uri": "https://localhost:8080/",
          "height": 72
        }
      },
      "source": [
        "# Uploading the data from Local File System\n",
        "from google.colab import files\n",
        "\n",
        "uploaded = files.upload()\n",
        "filename = 'Energy_efficiency_DataSet.csv'"
      ],
      "execution_count": 1,
      "outputs": [
        {
          "output_type": "display_data",
          "data": {
            "text/html": [
              "\n",
              "     <input type=\"file\" id=\"files-5b6e97ca-eb2e-4453-9c9e-eefff57e49ff\" name=\"files[]\" multiple disabled\n",
              "        style=\"border:none\" />\n",
              "     <output id=\"result-5b6e97ca-eb2e-4453-9c9e-eefff57e49ff\">\n",
              "      Upload widget is only available when the cell has been executed in the\n",
              "      current browser session. Please rerun this cell to enable.\n",
              "      </output>\n",
              "      <script src=\"/nbextensions/google.colab/files.js\"></script> "
            ],
            "text/plain": [
              "<IPython.core.display.HTML object>"
            ]
          },
          "metadata": {
            "tags": []
          }
        },
        {
          "output_type": "stream",
          "text": [
            "Saving Energy_efficiency_DataSet.csv to Energy_efficiency_DataSet.csv\n"
          ],
          "name": "stdout"
        }
      ]
    },
    {
      "cell_type": "code",
      "metadata": {
        "id": "_GuPRI1tF09q"
      },
      "source": [
        "import pandas as pd\n",
        "import numpy as np\n",
        "\n",
        "#X1 Relative Compactness\n",
        "#X2 Surface Area\n",
        "#X3 Wall Area\n",
        "#X4 Roof Area\n",
        "#X5 Overall Height\n",
        "#X6 Orientation\n",
        "#X7 Glazing Area\n",
        "#X8 Glazing Area Distribution\n",
        "#y1 Heating Load\n",
        "#y2 Cooling Load\n",
        "names = ['RC', 'SA', 'WA', 'RA', 'OH', 'O', 'GA', 'GAD', 'HL', 'CL']\n",
        "data = pd.read_csv(filename, names=names, comment='#')"
      ],
      "execution_count": 2,
      "outputs": []
    },
    {
      "cell_type": "code",
      "metadata": {
        "id": "uPFk8b14iU9X",
        "outputId": "2e6aaf02-7f4d-495d-cb71-ad8571a27ad6",
        "colab": {
          "base_uri": "https://localhost:8080/"
        }
      },
      "source": [
        "# Split the dataset into the input and output variables for machine learning.\n",
        "\n",
        "#X1 Relative Compactness\n",
        "#X2 Surface Area\n",
        "#X3 Wall Area\n",
        "#X4 Roof Area\n",
        "#X5 Overall Height\n",
        "#X6 Orientation\n",
        "#X7 Glazing Area\n",
        "#X8 Glazing Area Distribution\n",
        "#y1 Heating Load\n",
        "#y2 Cooling Load\n",
        "X = data[['RC', 'SA', 'WA', 'RA', 'OH', 'O', 'GA', 'GAD']]\n",
        "y = data[['HL','CL']]\n",
        "print(X)\n",
        "print('______________________________________________')\n",
        "print(y)"
      ],
      "execution_count": 3,
      "outputs": [
        {
          "output_type": "stream",
          "text": [
            "       RC     SA     WA      RA   OH  O   GA  GAD\n",
            "0    0.98  514.5  294.0  110.25  7.0  2  0.0    0\n",
            "1    0.98  514.5  294.0  110.25  7.0  3  0.0    0\n",
            "2    0.98  514.5  294.0  110.25  7.0  4  0.0    0\n",
            "3    0.98  514.5  294.0  110.25  7.0  5  0.0    0\n",
            "4    0.90  563.5  318.5  122.50  7.0  2  0.0    0\n",
            "..    ...    ...    ...     ...  ... ..  ...  ...\n",
            "763  0.64  784.0  343.0  220.50  3.5  5  0.4    5\n",
            "764  0.62  808.5  367.5  220.50  3.5  2  0.4    5\n",
            "765  0.62  808.5  367.5  220.50  3.5  3  0.4    5\n",
            "766  0.62  808.5  367.5  220.50  3.5  4  0.4    5\n",
            "767  0.62  808.5  367.5  220.50  3.5  5  0.4    5\n",
            "\n",
            "[768 rows x 8 columns]\n",
            "______________________________________________\n",
            "        HL     CL\n",
            "0    15.55  21.33\n",
            "1    15.55  21.33\n",
            "2    15.55  21.33\n",
            "3    15.55  21.33\n",
            "4    20.84  28.28\n",
            "..     ...    ...\n",
            "763  17.88  21.40\n",
            "764  16.54  16.88\n",
            "765  16.44  17.11\n",
            "766  16.48  16.61\n",
            "767  16.64  16.03\n",
            "\n",
            "[768 rows x 2 columns]\n"
          ],
          "name": "stdout"
        }
      ]
    },
    {
      "cell_type": "code",
      "metadata": {
        "id": "N7LClMrOjEr3"
      },
      "source": [
        "# Apply a pre-processing transform (MinMaxScaler) to the input variables.\n",
        "from sklearn.preprocessing import MinMaxScaler\n",
        "\n",
        "scaler = MinMaxScaler(feature_range=(0,1))\n",
        "rescaledX = scaler.fit_transform(X)"
      ],
      "execution_count": 4,
      "outputs": []
    },
    {
      "cell_type": "code",
      "metadata": {
        "id": "R3ThLo0pjZX-",
        "outputId": "fe8218b3-926b-46ad-dc7a-3a112de4d2ab",
        "colab": {
          "base_uri": "https://localhost:8080/"
        }
      },
      "source": [
        "# Summarize the data to show the change.\n",
        "np.set_printoptions(precision=3)\n",
        "print(rescaledX[0:5, :])"
      ],
      "execution_count": 5,
      "outputs": [
        {
          "output_type": "stream",
          "text": [
            "[[1.    0.    0.286 0.    1.    0.    0.    0.   ]\n",
            " [1.    0.    0.286 0.    1.    0.333 0.    0.   ]\n",
            " [1.    0.    0.286 0.    1.    0.667 0.    0.   ]\n",
            " [1.    0.    0.286 0.    1.    1.    0.    0.   ]\n",
            " [0.778 0.167 0.429 0.111 1.    0.    0.    0.   ]]\n"
          ],
          "name": "stdout"
        }
      ]
    },
    {
      "cell_type": "code",
      "metadata": {
        "id": "_OzD9OXa3-Vy"
      },
      "source": [
        "rescaledX_rescale = rescaledX"
      ],
      "execution_count": 7,
      "outputs": []
    },
    {
      "cell_type": "markdown",
      "metadata": {
        "id": "GNqGi918fUXH"
      },
      "source": [
        "## 2. Standardize Data"
      ]
    },
    {
      "cell_type": "markdown",
      "metadata": {
        "id": "KZT11ZlZkozQ"
      },
      "source": [
        "Standardization is a useful technique to transform attributes with a Gaussian distribution and differing means and standard deviations to a standard Gaussian distribution with a mean of 0 and a standard deviation of 1. It is most suitable for techniques that assume a Gaussian distribution in the input variables and work better with rescaled data, such as linear regression,\n",
        "logistic regression and linear discriminate analysis. You can standardize data using scikit-learn with the [StandardScaler](https://scikit-learn.org/stable/modules/generated/sklearn.preprocessing.StandardScaler.html) class."
      ]
    },
    {
      "cell_type": "code",
      "metadata": {
        "id": "wEJ0CYNGfWt5"
      },
      "source": [
        "#X1 Relative Compactness\n",
        "#X2 Surface Area\n",
        "#X3 Wall Area\n",
        "#X4 Roof Area\n",
        "#X5 Overall Height\n",
        "#X6 Orientation\n",
        "#X7 Glazing Area\n",
        "#X8 Glazing Area Distribution\n",
        "#y1 Heating Load\n",
        "#y2 Cooling Load\n",
        "names = ['RC', 'SA', 'WA', 'RA', 'OH', 'O', 'GA', 'GAD', 'HL', 'CL']\n",
        "data = pd.read_csv(filename, names=names, comment='#')"
      ],
      "execution_count": 8,
      "outputs": []
    },
    {
      "cell_type": "code",
      "metadata": {
        "id": "BzgycmzSlIee",
        "outputId": "5137f8ee-8f59-4e4f-d86d-edb969205783",
        "colab": {
          "base_uri": "https://localhost:8080/"
        }
      },
      "source": [
        "# Split the dataset into the input and output variables for machine learning.\n",
        "\n",
        "#X1 Relative Compactness\n",
        "#X2 Surface Area\n",
        "#X3 Wall Area\n",
        "#X4 Roof Area\n",
        "#X5 Overall Height\n",
        "#X6 Orientation\n",
        "#X7 Glazing Area\n",
        "#X8 Glazing Area Distribution\n",
        "#y1 Heating Load\n",
        "#y2 Cooling Load\n",
        "X = data[['RC', 'SA', 'WA', 'RA', 'OH', 'O', 'GA', 'GAD']]\n",
        "y = data[['HL','CL']]\n",
        "print(X)\n",
        "print('______________________________________________')\n",
        "print(y)"
      ],
      "execution_count": 9,
      "outputs": [
        {
          "output_type": "stream",
          "text": [
            "       RC     SA     WA      RA   OH  O   GA  GAD\n",
            "0    0.98  514.5  294.0  110.25  7.0  2  0.0    0\n",
            "1    0.98  514.5  294.0  110.25  7.0  3  0.0    0\n",
            "2    0.98  514.5  294.0  110.25  7.0  4  0.0    0\n",
            "3    0.98  514.5  294.0  110.25  7.0  5  0.0    0\n",
            "4    0.90  563.5  318.5  122.50  7.0  2  0.0    0\n",
            "..    ...    ...    ...     ...  ... ..  ...  ...\n",
            "763  0.64  784.0  343.0  220.50  3.5  5  0.4    5\n",
            "764  0.62  808.5  367.5  220.50  3.5  2  0.4    5\n",
            "765  0.62  808.5  367.5  220.50  3.5  3  0.4    5\n",
            "766  0.62  808.5  367.5  220.50  3.5  4  0.4    5\n",
            "767  0.62  808.5  367.5  220.50  3.5  5  0.4    5\n",
            "\n",
            "[768 rows x 8 columns]\n",
            "______________________________________________\n",
            "        HL     CL\n",
            "0    15.55  21.33\n",
            "1    15.55  21.33\n",
            "2    15.55  21.33\n",
            "3    15.55  21.33\n",
            "4    20.84  28.28\n",
            "..     ...    ...\n",
            "763  17.88  21.40\n",
            "764  16.54  16.88\n",
            "765  16.44  17.11\n",
            "766  16.48  16.61\n",
            "767  16.64  16.03\n",
            "\n",
            "[768 rows x 2 columns]\n"
          ],
          "name": "stdout"
        }
      ]
    },
    {
      "cell_type": "code",
      "metadata": {
        "id": "hZ0JPeJllJi-"
      },
      "source": [
        "# Apply a pre-processing transform (StandardScaler) to the input variables.\n",
        "from sklearn.preprocessing import StandardScaler\n",
        "\n",
        "scaler = StandardScaler()\n",
        "rescaledX = scaler.fit_transform(X)"
      ],
      "execution_count": 10,
      "outputs": []
    },
    {
      "cell_type": "code",
      "metadata": {
        "id": "5amgNgYbla_t",
        "outputId": "c01eb68f-0690-4226-c336-f4f0c387649d",
        "colab": {
          "base_uri": "https://localhost:8080/"
        }
      },
      "source": [
        "# Summarize the data to show the change.\n",
        "np.set_printoptions(precision=3)\n",
        "print(rescaledX[0:5, :])"
      ],
      "execution_count": 11,
      "outputs": [
        {
          "output_type": "stream",
          "text": [
            "[[ 2.042 -1.786 -0.562 -1.47   1.    -1.342 -1.76  -1.815]\n",
            " [ 2.042 -1.786 -0.562 -1.47   1.    -0.447 -1.76  -1.815]\n",
            " [ 2.042 -1.786 -0.562 -1.47   1.     0.447 -1.76  -1.815]\n",
            " [ 2.042 -1.786 -0.562 -1.47   1.     1.342 -1.76  -1.815]\n",
            " [ 1.285 -1.229  0.    -1.199  1.    -1.342 -1.76  -1.815]]\n"
          ],
          "name": "stdout"
        }
      ]
    },
    {
      "cell_type": "code",
      "metadata": {
        "id": "RsFHC6S84SxT"
      },
      "source": [
        "rescaledX_standardize = rescaledX"
      ],
      "execution_count": 12,
      "outputs": []
    },
    {
      "cell_type": "markdown",
      "metadata": {
        "id": "7yGt_gO6fXQn"
      },
      "source": [
        "## 3. Normalize Data"
      ]
    },
    {
      "cell_type": "markdown",
      "metadata": {
        "id": "ESiq_wIqlt99"
      },
      "source": [
        "Normalizing in scikit-learn refers to rescaling each observation (row) to have a length of 1 (called a unit norm or a vector with the length of 1 in linear algebra). This pre-processing method can be useful for sparse datasets (lots of zeros) with attributes of varying scales when using algorithms that weight input values such as neural networks and algorithms that use distance measures such as k-Nearest Neighbors. You can normalize data in Python with scikit-learn\n",
        "using the [Normalizer](https://scikit-learn.org/stable/modules/generated/sklearn.preprocessing.Normalizer.html) class."
      ]
    },
    {
      "cell_type": "code",
      "metadata": {
        "id": "J8eenDjPfZW3"
      },
      "source": [
        "#X1 Relative Compactness\n",
        "#X2 Surface Area\n",
        "#X3 Wall Area\n",
        "#X4 Roof Area\n",
        "#X5 Overall Height\n",
        "#X6 Orientation\n",
        "#X7 Glazing Area\n",
        "#X8 Glazing Area Distribution\n",
        "#y1 Heating Load\n",
        "#y2 Cooling Load\n",
        "names = ['RC', 'SA', 'WA', 'RA', 'OH', 'O', 'GA', 'GAD', 'HL', 'CL']\n",
        "data = pd.read_csv(filename, names=names, comment='#')"
      ],
      "execution_count": 26,
      "outputs": []
    },
    {
      "cell_type": "code",
      "metadata": {
        "id": "qU2IC3ZAmBO-",
        "outputId": "c1955e0e-2d9d-4959-834a-45031dffe80d",
        "colab": {
          "base_uri": "https://localhost:8080/"
        }
      },
      "source": [
        "# Split the dataset into the input and output variables for machine learning.\n",
        "\n",
        "#X1 Relative Compactness\n",
        "#X2 Surface Area\n",
        "#X3 Wall Area\n",
        "#X4 Roof Area\n",
        "#X5 Overall Height\n",
        "#X6 Orientation\n",
        "#X7 Glazing Area\n",
        "#X8 Glazing Area Distribution\n",
        "#y1 Heating Load\n",
        "#y2 Cooling Load\n",
        "X = data[['RC', 'SA', 'WA', 'RA', 'OH', 'O', 'GA', 'GAD']]\n",
        "y = data[['HL','CL']]\n",
        "print(X)\n",
        "print('______________________________________________')\n",
        "print(y)"
      ],
      "execution_count": 27,
      "outputs": [
        {
          "output_type": "stream",
          "text": [
            "       RC     SA     WA      RA   OH  O   GA  GAD\n",
            "0    0.98  514.5  294.0  110.25  7.0  2  0.0    0\n",
            "1    0.98  514.5  294.0  110.25  7.0  3  0.0    0\n",
            "2    0.98  514.5  294.0  110.25  7.0  4  0.0    0\n",
            "3    0.98  514.5  294.0  110.25  7.0  5  0.0    0\n",
            "4    0.90  563.5  318.5  122.50  7.0  2  0.0    0\n",
            "..    ...    ...    ...     ...  ... ..  ...  ...\n",
            "763  0.64  784.0  343.0  220.50  3.5  5  0.4    5\n",
            "764  0.62  808.5  367.5  220.50  3.5  2  0.4    5\n",
            "765  0.62  808.5  367.5  220.50  3.5  3  0.4    5\n",
            "766  0.62  808.5  367.5  220.50  3.5  4  0.4    5\n",
            "767  0.62  808.5  367.5  220.50  3.5  5  0.4    5\n",
            "\n",
            "[768 rows x 8 columns]\n",
            "______________________________________________\n",
            "        HL     CL\n",
            "0    15.55  21.33\n",
            "1    15.55  21.33\n",
            "2    15.55  21.33\n",
            "3    15.55  21.33\n",
            "4    20.84  28.28\n",
            "..     ...    ...\n",
            "763  17.88  21.40\n",
            "764  16.54  16.88\n",
            "765  16.44  17.11\n",
            "766  16.48  16.61\n",
            "767  16.64  16.03\n",
            "\n",
            "[768 rows x 2 columns]\n"
          ],
          "name": "stdout"
        }
      ]
    },
    {
      "cell_type": "code",
      "metadata": {
        "id": "h3neOo8AmEA9"
      },
      "source": [
        "# Apply a pre-processing transform (Normalizer) to the input variables.\n",
        "from sklearn.preprocessing import Normalizer\n",
        "\n",
        "scaler = Normalizer()\n",
        "rescaledX = scaler.fit_transform(X)"
      ],
      "execution_count": 28,
      "outputs": []
    },
    {
      "cell_type": "code",
      "metadata": {
        "id": "4axHvuK_mLU9",
        "outputId": "9aaadf14-cd46-4fc6-f31a-bcb99f03ab71",
        "colab": {
          "base_uri": "https://localhost:8080/"
        }
      },
      "source": [
        "# Summarize the data to show the change.\n",
        "np.set_printoptions(precision=3)\n",
        "print(rescaledX[0:5, :])"
      ],
      "execution_count": 29,
      "outputs": [
        {
          "output_type": "stream",
          "text": [
            "[[0.002 0.854 0.488 0.183 0.012 0.003 0.    0.   ]\n",
            " [0.002 0.854 0.488 0.183 0.012 0.005 0.    0.   ]\n",
            " [0.002 0.854 0.488 0.183 0.012 0.007 0.    0.   ]\n",
            " [0.002 0.854 0.488 0.183 0.012 0.008 0.    0.   ]\n",
            " [0.001 0.855 0.483 0.186 0.011 0.003 0.    0.   ]]\n"
          ],
          "name": "stdout"
        }
      ]
    },
    {
      "cell_type": "code",
      "metadata": {
        "id": "e1dRoqsY8GZB"
      },
      "source": [
        "rescaledX_normalize = rescaledX"
      ],
      "execution_count": 15,
      "outputs": []
    },
    {
      "cell_type": "markdown",
      "metadata": {
        "id": "bvazyO2FfZxf"
      },
      "source": [
        "## 4. Binarize Data"
      ]
    },
    {
      "cell_type": "markdown",
      "metadata": {
        "id": "VECHxPusmiz9"
      },
      "source": [
        "You can transform your data using a binary threshold. All values above the threshold are marked 1 and all equal to or below are marked as 0. This is called *binarizing* your data or *thresholding* your data. It can be useful when you have probabilities that you want to make crisp values. It is also useful when feature engineering and you want to add new features that indicate\n",
        "something meaningful. You can create new binary attributes in Python using scikit-learn with the [Binarizer](https://scikit-learn.org/stable/modules/generated/sklearn.preprocessing.Binarizer.html) class. \n",
        "\n",
        "Binarization is a common operation on text count data where the analyst can decide to only consider the presence or absence of a feature rather than a quantified number of occurrences for instance."
      ]
    },
    {
      "cell_type": "code",
      "metadata": {
        "id": "L_N9KtV5fb4g"
      },
      "source": [
        "#X1 Relative Compactness\n",
        "#X2 Surface Area\n",
        "#X3 Wall Area\n",
        "#X4 Roof Area\n",
        "#X5 Overall Height\n",
        "#X6 Orientation\n",
        "#X7 Glazing Area\n",
        "#X8 Glazing Area Distribution\n",
        "#y1 Heating Load\n",
        "#y2 Cooling Load\n",
        "names = ['RC', 'SA', 'WA', 'RA', 'OH', 'O', 'GA', 'GAD', 'HL', 'CL']\n",
        "data = pd.read_csv(filename, names=names, comment='#')"
      ],
      "execution_count": 30,
      "outputs": []
    },
    {
      "cell_type": "code",
      "metadata": {
        "id": "pzBsXznsnEad",
        "outputId": "024089d7-40db-472c-9a74-0e663054b485",
        "colab": {
          "base_uri": "https://localhost:8080/"
        }
      },
      "source": [
        "# Split the dataset into the input and output variables for machine learning.\n",
        "\n",
        "#X1 Relative Compactness\n",
        "#X2 Surface Area\n",
        "#X3 Wall Area\n",
        "#X4 Roof Area\n",
        "#X5 Overall Height\n",
        "#X6 Orientation\n",
        "#X7 Glazing Area\n",
        "#X8 Glazing Area Distribution\n",
        "#y1 Heating Load\n",
        "#y2 Cooling Load\n",
        "X = data[['RC', 'SA', 'WA', 'RA', 'OH', 'O', 'GA', 'GAD']]\n",
        "y = data[['HL','CL']]\n",
        "print(X)\n",
        "print('______________________________________________')\n",
        "print(y)"
      ],
      "execution_count": 31,
      "outputs": [
        {
          "output_type": "stream",
          "text": [
            "       RC     SA     WA      RA   OH  O   GA  GAD\n",
            "0    0.98  514.5  294.0  110.25  7.0  2  0.0    0\n",
            "1    0.98  514.5  294.0  110.25  7.0  3  0.0    0\n",
            "2    0.98  514.5  294.0  110.25  7.0  4  0.0    0\n",
            "3    0.98  514.5  294.0  110.25  7.0  5  0.0    0\n",
            "4    0.90  563.5  318.5  122.50  7.0  2  0.0    0\n",
            "..    ...    ...    ...     ...  ... ..  ...  ...\n",
            "763  0.64  784.0  343.0  220.50  3.5  5  0.4    5\n",
            "764  0.62  808.5  367.5  220.50  3.5  2  0.4    5\n",
            "765  0.62  808.5  367.5  220.50  3.5  3  0.4    5\n",
            "766  0.62  808.5  367.5  220.50  3.5  4  0.4    5\n",
            "767  0.62  808.5  367.5  220.50  3.5  5  0.4    5\n",
            "\n",
            "[768 rows x 8 columns]\n",
            "______________________________________________\n",
            "        HL     CL\n",
            "0    15.55  21.33\n",
            "1    15.55  21.33\n",
            "2    15.55  21.33\n",
            "3    15.55  21.33\n",
            "4    20.84  28.28\n",
            "..     ...    ...\n",
            "763  17.88  21.40\n",
            "764  16.54  16.88\n",
            "765  16.44  17.11\n",
            "766  16.48  16.61\n",
            "767  16.64  16.03\n",
            "\n",
            "[768 rows x 2 columns]\n"
          ],
          "name": "stdout"
        }
      ]
    },
    {
      "cell_type": "code",
      "metadata": {
        "id": "SoBBTR5-nHz9"
      },
      "source": [
        "# Apply a pre-processing transform (Binarizer) to the input variables.\n",
        "from sklearn.preprocessing import Binarizer\n",
        "\n",
        "scaler = Binarizer(threshold=0.0)\n",
        "rescaledX = scaler.fit_transform(X)"
      ],
      "execution_count": 32,
      "outputs": []
    },
    {
      "cell_type": "code",
      "metadata": {
        "id": "gnFRplzrnPN8",
        "outputId": "180324be-081d-4b18-8311-ec733590a2b4",
        "colab": {
          "base_uri": "https://localhost:8080/"
        }
      },
      "source": [
        "# Summarize the data to show the change.\n",
        "np.set_printoptions(precision=3)\n",
        "print(rescaledX[0:5, :])"
      ],
      "execution_count": 33,
      "outputs": [
        {
          "output_type": "stream",
          "text": [
            "[[1. 1. 1. 1. 1. 1. 0. 0.]\n",
            " [1. 1. 1. 1. 1. 1. 0. 0.]\n",
            " [1. 1. 1. 1. 1. 1. 0. 0.]\n",
            " [1. 1. 1. 1. 1. 1. 0. 0.]\n",
            " [1. 1. 1. 1. 1. 1. 0. 0.]]\n"
          ],
          "name": "stdout"
        }
      ]
    },
    {
      "cell_type": "code",
      "metadata": {
        "id": "oas0NTwR8I06"
      },
      "source": [
        "rescaledX_binarize = rescaledX"
      ],
      "execution_count": 20,
      "outputs": []
    },
    {
      "cell_type": "markdown",
      "metadata": {
        "id": "MyVUXgnt9Urp"
      },
      "source": [
        "## Comparing scaled data using Box and Whisker Plots"
      ]
    },
    {
      "cell_type": "code",
      "metadata": {
        "id": "H2vtmK-G9oYh",
        "outputId": "ae7523a1-2c0b-43b3-c254-3c2de4fb22d7",
        "colab": {
          "base_uri": "https://localhost:8080/",
          "height": 500
        }
      },
      "source": [
        "# Box and Whisker Plot of the \"original\" ranges of the features\n",
        "pd.DataFrame(X).plot(kind='box', figsize=(15,8))"
      ],
      "execution_count": 34,
      "outputs": [
        {
          "output_type": "execute_result",
          "data": {
            "text/plain": [
              "<matplotlib.axes._subplots.AxesSubplot at 0x7f360785c290>"
            ]
          },
          "metadata": {
            "tags": []
          },
          "execution_count": 34
        },
        {
          "output_type": "display_data",
          "data": {
            "image/png": "[encoded data removed]",
            "text/plain": [
              "<Figure size 1080x576 with 1 Axes>"
            ]
          },
          "metadata": {
            "tags": [],
            "needs_background": "light"
          }
        }
      ]
    },
    {
      "cell_type": "code",
      "metadata": {
        "id": "nnymaKF4-ESa",
        "outputId": "dc4c8a04-ebbe-4d59-8f45-4ec9f626de73",
        "colab": {
          "base_uri": "https://localhost:8080/",
          "height": 500
        }
      },
      "source": [
        "# Box and Whisker Plot of the \"rescaled\" ranges of the features using MinMaxScaler\n",
        "pd.DataFrame(rescaledX_rescale).plot(kind='box', figsize=(15,8))"
      ],
      "execution_count": 35,
      "outputs": [
        {
          "output_type": "execute_result",
          "data": {
            "text/plain": [
              "<matplotlib.axes._subplots.AxesSubplot at 0x7f3606e72350>"
            ]
          },
          "metadata": {
            "tags": []
          },
          "execution_count": 35
        },
        {
          "output_type": "display_data",
          "data": {
            "image/png": "[encoded data removed]",
            "text/plain": [
              "<Figure size 1080x576 with 1 Axes>"
            ]
          },
          "metadata": {
            "tags": [],
            "needs_background": "light"
          }
        }
      ]
    },
    {
      "cell_type": "code",
      "metadata": {
        "id": "THGXH7t5-N2a",
        "outputId": "6c35c158-cdb5-41ea-cbe0-c43c5e7ee42f",
        "colab": {
          "base_uri": "https://localhost:8080/",
          "height": 500
        }
      },
      "source": [
        "# Box and Whisker Plot of the \"standardized\" ranges of the features using StandardScaler\n",
        "pd.DataFrame(rescaledX_standardize).plot(kind='box', figsize=(15,8))"
      ],
      "execution_count": 36,
      "outputs": [
        {
          "output_type": "execute_result",
          "data": {
            "text/plain": [
              "<matplotlib.axes._subplots.AxesSubplot at 0x7f3606d42090>"
            ]
          },
          "metadata": {
            "tags": []
          },
          "execution_count": 36
        },
        {
          "output_type": "display_data",
          "data": {
            "image/png": "[encoded data removed]",
            "text/plain": [
              "<Figure size 1080x576 with 1 Axes>"
            ]
          },
          "metadata": {
            "tags": [],
            "needs_background": "light"
          }
        }
      ]
    },
    {
      "cell_type": "code",
      "metadata": {
        "id": "ll78RAQp-f1a",
        "outputId": "7efd0f64-6b11-4ded-dfe2-1f1078565dfb",
        "colab": {
          "base_uri": "https://localhost:8080/",
          "height": 500
        }
      },
      "source": [
        "# Box and Whisker Plot of the \"normalized\" ranges of the features using Normalizer\n",
        "pd.DataFrame(rescaledX_normalize).plot(kind='box', figsize=(15,8))"
      ],
      "execution_count": 37,
      "outputs": [
        {
          "output_type": "execute_result",
          "data": {
            "text/plain": [
              "<matplotlib.axes._subplots.AxesSubplot at 0x7f3606c50ad0>"
            ]
          },
          "metadata": {
            "tags": []
          },
          "execution_count": 37
        },
        {
          "output_type": "display_data",
          "data": {
            "image/png": "[encoded data removed]",
            "text/plain": [
              "<Figure size 1080x576 with 1 Axes>"
            ]
          },
          "metadata": {
            "tags": [],
            "needs_background": "light"
          }
        }
      ]
    },
    {
      "cell_type": "code",
      "metadata": {
        "id": "9rO67hDJ-mzh",
        "outputId": "29fad235-6302-4765-86b0-2975dcb6b0ab",
        "colab": {
          "base_uri": "https://localhost:8080/",
          "height": 500
        }
      },
      "source": [
        "# Box and Whisker Plot of the \"binarized\" ranges of the features using Binarizer\n",
        "pd.DataFrame(rescaledX_binarize).plot(kind='box', figsize=(15,8))"
      ],
      "execution_count": 38,
      "outputs": [
        {
          "output_type": "execute_result",
          "data": {
            "text/plain": [
              "<matplotlib.axes._subplots.AxesSubplot at 0x7f3606af0f90>"
            ]
          },
          "metadata": {
            "tags": []
          },
          "execution_count": 38
        },
        {
          "output_type": "display_data",
          "data": {
            "image/png": "[encoded data removed]",
            "text/plain": [
              "<Figure size 1080x576 with 1 Axes>"
            ]
          },
          "metadata": {
            "tags": [],
            "needs_background": "light"
          }
        }
      ]
    },
    {
      "cell_type": "markdown",
      "metadata": {
        "id": "RSt6RSTbnyId"
      },
      "source": [
        "## What Data Transform to Use When?"
      ]
    },
    {
      "cell_type": "markdown",
      "metadata": {
        "id": "rcmN7vPxpMlc"
      },
      "source": [
        "\n",
        "\n",
        "*   Rescale data (MinMaxScaler) when your data is comprised of attributes with varying scales.\n",
        "*   Standardize data (StandardScaler) when your data assumes Gaussian distribution in the input variables.\n",
        "*   Normalize data (Normalizer) when you have a sparse dataset (lots of zeros) with attributes of varying scales.\n",
        "*   Binarize data (Binarizer) when you want to decide to only consider the presence or absence of a feature rather than a quantified number of occurences.\n",
        "\n",
        "\n",
        "Although generally speaking, It is recommended to create many different transforms of your data, then exercise a handful of algorithms on each view of your dataset. This will help you flush out which data transforms might be better at exposing the structure of your problem in general."
      ]
    }
  ]
}