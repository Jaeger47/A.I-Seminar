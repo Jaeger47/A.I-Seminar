{
  "nbformat": 4,
  "nbformat_minor": 0,
  "metadata": {
    "colab": {
      "name": "Linear_Regression.ipynb",
      "provenance": [],
      "include_colab_link": true
    },
    "kernelspec": {
      "name": "python3",
      "display_name": "Python 3"
    },
    "language_info": {
      "name": "python"
    }
  },
  "cells": [
    {
      "cell_type": "markdown",
      "metadata": {
        "id": "view-in-github",
        "colab_type": "text"
      },
      "source": [
        "<a href=\"https://colab.research.google.com/github/Jaeger47/A.I-Seminar/blob/main/Linear_Regression.ipynb\" target=\"_parent\"><img src=\"https://colab.research.google.com/assets/colab-badge.svg\" alt=\"Open In Colab\"/></a>"
      ]
    },
    {
      "cell_type": "code",
      "metadata": {
        "id": "223BmYRUDSun"
      },
      "source": [
        "import pandas as pd\n",
        "import seaborn as sns\n",
        "sns.set_palette('husl')\n",
        "import matplotlib.pyplot as plt\n",
        "from sklearn.model_selection import train_test_split\n",
        "from sklearn.linear_model import LinearRegression\n",
        "from sklearn import metrics"
      ],
      "execution_count": 1,
      "outputs": []
    },
    {
      "cell_type": "code",
      "metadata": {
        "colab": {
          "resources": {
            "http://localhost:8080/nbextensions/google.colab/files.js": {
              "data": "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",
              "ok": true,
              "headers": [
                [
                  "content-type",
                  "application/javascript"
                ]
              ],
              "status": 200,
              "status_text": ""
            }
          },
          "base_uri": "https://localhost:8080/",
          "height": 72
        },
        "id": "bPLv1TWERYri",
        "outputId": "f18e760d-10a9-4cf7-c0ad-fd37c7a015b6"
      },
      "source": [
        "from google.colab import files\n",
        "\n",
        "uploaded = files.upload()"
      ],
      "execution_count": 2,
      "outputs": [
        {
          "output_type": "display_data",
          "data": {
            "text/html": [
              "\n",
              "     <input type=\"file\" id=\"files-b2f7b9b2-c448-4ebf-b80d-930846d118c5\" name=\"files[]\" multiple disabled\n",
              "        style=\"border:none\" />\n",
              "     <output id=\"result-b2f7b9b2-c448-4ebf-b80d-930846d118c5\">\n",
              "      Upload widget is only available when the cell has been executed in the\n",
              "      current browser session. Please rerun this cell to enable.\n",
              "      </output>\n",
              "      <script src=\"/nbextensions/google.colab/files.js\"></script> "
            ],
            "text/plain": [
              "<IPython.core.display.HTML object>"
            ]
          },
          "metadata": {
            "tags": []
          }
        },
        {
          "output_type": "stream",
          "text": [
            "Saving Energy_efficiency_DataSet.csv to Energy_efficiency_DataSet.csv\n"
          ],
          "name": "stdout"
        }
      ]
    },
    {
      "cell_type": "markdown",
      "metadata": {
        "id": "TDmNeffDrzkH"
      },
      "source": [
        "### **Linear Regression using Scikit-learn**"
      ]
    },
    {
      "cell_type": "markdown",
      "metadata": {
        "id": "yzAkMDyuLVn5"
      },
      "source": [
        "**Load the data**"
      ]
    },
    {
      "cell_type": "code",
      "metadata": {
        "colab": {
          "base_uri": "https://localhost:8080/"
        },
        "id": "573_ZYWPIAX8",
        "outputId": "73687b65-7b77-4ee7-c426-3ec9b19de743"
      },
      "source": [
        "import pandas as pd \n",
        "#X1 Relative Compactness\n",
        "#X2 Surface Area\n",
        "#X3 Wall Area\n",
        "#X4 Roof Area\n",
        "#X5 Overall Height\n",
        "#X6 Orientation\n",
        "#X7 Glazing Area\n",
        "#X8 Glazing Area Distribution\n",
        "#y1 Heating Load\n",
        "#y2 Cooling Load\n",
        "names = ['RC', 'SA', 'WA', 'RA', 'OH', 'O', 'GA', 'GAD', 'HL', 'CL']\n",
        "data = pd.read_csv('Energy_efficiency_DataSet.csv', names=names, comment='#')   # I am using the `url` variable here.\n",
        "print(data.head())"
      ],
      "execution_count": 32,
      "outputs": [
        {
          "output_type": "stream",
          "text": [
            "     RC     SA     WA      RA   OH  O   GA  GAD     HL     CL\n",
            "0  0.98  514.5  294.0  110.25  7.0  2  0.0    0  15.55  21.33\n",
            "1  0.98  514.5  294.0  110.25  7.0  3  0.0    0  15.55  21.33\n",
            "2  0.98  514.5  294.0  110.25  7.0  4  0.0    0  15.55  21.33\n",
            "3  0.98  514.5  294.0  110.25  7.0  5  0.0    0  15.55  21.33\n",
            "4  0.90  563.5  318.5  122.50  7.0  2  0.0    0  20.84  28.28\n"
          ],
          "name": "stdout"
        }
      ]
    },
    {
      "cell_type": "markdown",
      "metadata": {
        "id": "lKOfyDebN-K-"
      },
      "source": [
        "**Split data into training and testing subsets**\n"
      ]
    },
    {
      "cell_type": "code",
      "metadata": {
        "id": "lC4oLz9xDXNZ"
      },
      "source": [
        "x = data[['RC', 'SA', 'WA', 'RA', 'OH', 'O', 'GA', 'GAD']]\n",
        "y1 = data[\"HL\"]\n",
        "y2 = data[\"CL\"]\n",
        "x_train, x_test, y1_train, y1_test = train_test_split(x,y1,test_size=0.30,random_state=0)\n",
        "x_train, x_test, y2_train, y2_test = train_test_split(x,y2,test_size=0.30,random_state=0)"
      ],
      "execution_count": 4,
      "outputs": []
    },
    {
      "cell_type": "markdown",
      "metadata": {
        "id": "0sD1ORtPGla7"
      },
      "source": [
        "**Train the model**"
      ]
    },
    {
      "cell_type": "code",
      "metadata": {
        "colab": {
          "base_uri": "https://localhost:8080/"
        },
        "id": "eYVSbySSDkOH",
        "outputId": "5b38cd86-859e-4d53-aeff-99d6bbd21c15"
      },
      "source": [
        "linreg = LinearRegression()\n",
        "x_train_rs = x_train.values.reshape(-1,1)\n",
        "x_test_rs = x_test.values.reshape(-1,1)\n",
        "model1 = linreg.fit(x_train, y1_train)\n",
        "print('bias ', model1.intercept_)\n",
        "print('weights', model1.coef_)"
      ],
      "execution_count": 34,
      "outputs": [
        {
          "output_type": "stream",
          "text": [
            "bias  72.70840138358511\n",
            "weights [-5.61917690e+01 -5.59395433e-02  4.02059525e-02 -4.80727479e-02\n",
            "  3.99271436e+00 -5.80752067e-02  1.94139741e+01  1.73971787e-01]\n"
          ],
          "name": "stdout"
        }
      ]
    },
    {
      "cell_type": "code",
      "metadata": {
        "colab": {
          "base_uri": "https://localhost:8080/"
        },
        "id": "kvhpJdxZS3gR",
        "outputId": "ec3a14c3-c273-40e7-e425-d3de00bdb039"
      },
      "source": [
        "linreg = LinearRegression()\n",
        "x_train_rs = x_train.values.reshape(-1,1)\n",
        "x_test_rs = x_test.values.reshape(-1,1)\n",
        "model2 = linreg.fit(x_train, y2_train)\n",
        "print('bias ', model2.intercept_)\n",
        "print('weights', model2.coef_)"
      ],
      "execution_count": 33,
      "outputs": [
        {
          "output_type": "stream",
          "text": [
            "bias  87.58799128963122\n",
            "weights [-6.42094267e+01 -6.01059730e-02  2.55229955e-02 -4.28144842e-02\n",
            "  4.21026016e+00  1.32796083e-01  1.43883341e+01  1.03879132e-02]\n"
          ],
          "name": "stdout"
        }
      ]
    },
    {
      "cell_type": "code",
      "metadata": {
        "colab": {
          "base_uri": "https://localhost:8080/"
        },
        "id": "hZUeypg8S_U1",
        "outputId": "5e27b24e-75e8-4bc4-b2dd-82fe7ce97aab"
      },
      "source": [
        "y1_pred=model1.predict(x_test)\n",
        "y1_pred"
      ],
      "execution_count": 9,
      "outputs": [
        {
          "output_type": "execute_result",
          "data": {
            "text/plain": [
              "array([17.42908535,  8.03392352, 29.47147848, 25.82378219, 31.09443868,\n",
              "       27.47852639, 28.29823914, 34.05346583, 29.27891809, 28.57721717,\n",
              "        6.98678743, 35.06362373, 11.89476148, 35.29567072, 35.81758608,\n",
              "       26.59886897,  9.4501002 , 27.30455461, 16.05153542, 12.30437494,\n",
              "       13.21670914, 31.26841047,  9.62432582, 32.44164981,  5.68650733,\n",
              "       15.21647106, 13.1394393 , 14.49618153,  9.10215663, 32.96356517,\n",
              "       13.4295615 , 14.45891403, 35.52771771, 14.28494224, 28.53028614,\n",
              "       37.06377569, 14.14823796, 37.41171926, 18.44171618,  9.93801796,\n",
              "       11.60489312, 32.32549939, 15.66471127, 31.14111588, 24.07773482,\n",
              "       25.61819002,  9.79804377, 13.10055872, 27.88454518, 32.364986  ,\n",
              "       31.21033526, 12.84957094, 34.15142574, 17.83510413, 37.23774747,\n",
              "        7.80187653, 23.15487725, 30.7931723 , 32.61536776, 16.24470184,\n",
              "       17.37101015, 12.36245015, 31.38430705,  8.55583888, 12.13040316,\n",
              "       11.23614184, 32.26742419, 10.7106318 , 26.77284075, 32.44139597,\n",
              "       31.50045746,  9.68214719, 28.69311375, 18.67376317, 12.4010769 ,\n",
              "       30.96714409, 31.67442925, 32.78933955, 31.84840103, 15.10057448,\n",
              "       33.30271863, 27.71057339, 11.25694954, 16.28358242, 34.40115557,\n",
              "       31.0252193 , 25.90805839, 27.12406229, 13.31366492, 18.61568797,\n",
              "       13.85811576, 26.71476555, 10.83012306, 25.21217124, 39.62792823,\n",
              "       18.6159418 , 34.1112872 , 16.01290868,  9.02542993, 36.94762527,\n",
              "       29.58737506, 28.40324538, 23.96158441, 33.803736  ,  8.49776368,\n",
              "       29.45288988, 35.87566129, 14.57481061, 12.18847836, 23.09680204,\n",
              "       18.57346654, 34.20950094, 32.07511763, 12.22710511, 12.36219632,\n",
              "       12.57504868, 11.83668628, 29.93531864, 26.83091596, 40.32381538,\n",
              "       33.9407844 , 10.94601964, 12.07232795, 33.36079384, 12.47834673,\n",
              "       40.03369318, 14.20605933, 28.47221093, 11.41011363, 32.7131834 ,\n",
              "       33.62951038, 25.27024645, 29.76134685, 11.17806663, 37.23749364,\n",
              "        9.14158035, 34.22718378, 25.32832165, 34.44154794, 15.39044285,\n",
              "       14.79125765, 17.87757939, 28.00069559,  9.27638225, 29.3555819 ,\n",
              "       18.78965975, 27.47878023, 36.5996817 , 13.27478435, 16.22576104,\n",
              "       28.8201545 , 11.7207897 , 16.22550721, 15.87781747, 13.80004055,\n",
              "       33.86155737, 28.00044176, 28.34517017, 14.74903623, 25.79216181,\n",
              "       32.15152761, 12.01425274, 25.44421823, 31.03636347, 14.05289525,\n",
              "       17.87732556, 14.8068576 , 32.36523983, 16.39973283, 32.01729626,\n",
              "       39.74382481, 12.59424331, 27.1821375 , 35.70143567, 34.32539752,\n",
              "       25.96613359, 29.27917192, 30.85124751, 16.36085225, 26.0242088 ,\n",
              "        8.20789531, 35.52746388, 29.68493687, 10.61830516, 15.68031122,\n",
              "       27.93915139,  9.16023183, 12.24629974, 30.90932272, 15.76166705,\n",
              "       12.96572135, 12.53616811, 18.45731613,  9.27612841, 17.13921699,\n",
              "       14.22686703, 17.31293494, 25.67626523,  9.97226939, 31.63029159,\n",
              "       15.95483347, 12.71013989,  7.72514984, 15.42932343, 28.57696333,\n",
              "       33.18682205,  9.21830704, 17.02306657, 10.88819827, 13.39068093,\n",
              "       28.17119839, 13.74221918, 28.93097452, 27.59467681, 10.71397265,\n",
              "       12.79174956, 25.84998318, 31.25726629, 30.27472593, 11.58408542,\n",
              "       32.61562159, 12.18822453, 16.36059842, 11.66271449, 29.70327164,\n",
              "       30.91279171, 34.09360436, 13.13969314, 15.58769527, 17.71895372,\n",
              "        7.78322504])"
            ]
          },
          "metadata": {
            "tags": []
          },
          "execution_count": 9
        }
      ]
    },
    {
      "cell_type": "code",
      "metadata": {
        "colab": {
          "base_uri": "https://localhost:8080/"
        },
        "id": "kuKSyzvFTOKT",
        "outputId": "67b7f085-7a40-4326-e5ac-a6e1f5c99ff3"
      },
      "source": [
        "y2_pred=model2.predict(x_test)\n",
        "y2_pred"
      ],
      "execution_count": 49,
      "outputs": [
        {
          "output_type": "execute_result",
          "data": {
            "text/plain": [
              "array([19.16855965, 12.37956229, 32.36551625, 29.95970324, 32.15762471,\n",
              "       30.40950197, 30.14255859, 35.47022055, 31.99965248, 31.17449614,\n",
              "       12.13174899, 36.80442466, 15.00563133, 36.68201649, 36.71318023,\n",
              "       29.71899419, 13.60174614, 30.39911406, 18.16010079, 15.48401618,\n",
              "       15.93130968, 32.16801262, 13.20335789, 34.39097029, 11.05274914,\n",
              "       17.6422663 , 16.00185067, 16.4616341 , 13.58097032, 34.42213403,\n",
              "       15.74664641, 17.14310562, 36.55960832, 17.1327177 , 30.02015042,\n",
              "       37.7799397 , 16.44085828, 37.80071552, 20.28718716, 13.68617177,\n",
              "       14.85205942, 34.65656245, 18.33437614, 33.7207466 , 27.97301696,\n",
              "       27.8619003 , 13.62252197, 16.19690185, 30.29748171, 34.16829051,\n",
              "       32.3008087 , 15.84827876, 36.03046574, 19.0565394 , 37.79032761,\n",
              "       12.50197046, 26.39190315, 33.69997077, 34.81013436, 18.2327438 ,\n",
              "       19.30135574, 15.3512201 , 32.31119662, 12.41072603, 15.47362827,\n",
              "       14.28260816, 34.78935854, 13.66103931, 29.7293821 , 34.79974645,\n",
              "       32.04560445, 13.47933797, 31.31768014, 20.16477899, 15.56494508,\n",
              "       33.71035868, 32.05599236, 34.82052227, 32.06638028, 17.4990823 ,\n",
              "       34.7260022 , 30.2870938 , 14.83128359, 18.03769262, 35.89977254,\n",
              "       33.5775626 , 28.01547221, 31.0387031 , 15.60346242, 20.29757508,\n",
              "       16.69606253, 29.86217818, 14.39462842, 27.97392055, 39.91741399,\n",
              "       19.88879891, 35.74620063, 17.9463758 , 13.64765443, 38.04553186,\n",
              "       32.50870025, 31.16410823, 28.23860912, 35.60091375, 12.54352212,\n",
              "       32.01004039, 36.58038414, 17.28628961, 15.34083219, 26.52469923,\n",
              "       19.49344498, 35.89766966, 34.0147186 , 15.55455717, 15.75999626,\n",
              "       15.57533299, 15.13842741, 32.52947607, 29.59658602, 39.95896564,\n",
              "       34.49157378, 14.53781241, 15.60642435, 34.59320612, 15.4944041 ,\n",
              "       40.21416989, 16.71683836, 30.1529465 , 14.29299607, 33.78029017,\n",
              "       35.999302  , 27.84112447, 32.51908816, 14.41540424, 38.19910377,\n",
              "       13.38206227, 35.88938463, 27.70832839, 35.77526149, 17.65265421,\n",
              "       17.69203146, 19.45189333, 30.03188955, 13.18258207, 32.22233226,\n",
              "       20.30796299, 30.00072581, 38.02475604, 15.7985136 , 17.76171254,\n",
              "       30.17372232, 14.99524341, 18.1704887 , 17.74093671, 16.82885861,\n",
              "       35.87689383, 30.44066571, 31.29690431, 16.88790136, 27.87228821,\n",
              "       34.64617454, 15.73922044, 27.85151238, 32.29042079, 17.25512587,\n",
              "       19.86066949, 17.16388144, 33.75951434, 17.77210045, 33.73873852,\n",
              "       40.06059798, 15.63758809, 30.90590701, 36.97877239, 36.04085365,\n",
              "       27.88267612, 31.59087631, 33.56717469, 17.96715163, 27.74988004,\n",
              "       12.38995021, 36.96838448, 31.88763222, 14.25587344, 17.80622612,\n",
              "       31.40892457, 13.44817423, 15.61681227, 33.4343786 , 18.00652888,\n",
              "       15.58268659, 15.77038417, 19.75903715, 13.59135823, 19.01498774,\n",
              "       17.26551379, 19.43415182, 27.72910421, 13.22413372, 34.28448851,\n",
              "       18.07917189, 15.78077209, 12.56865458, 17.45760303, 31.5832723 ,\n",
              "       34.58281821, 13.31537815, 19.28057991, 14.26183233, 15.94169759,\n",
              "       31.2865164 , 16.55287853, 31.97887665, 30.1439098 , 14.66022058,\n",
              "       15.57229868, 28.14826829, 33.45515443, 32.42456809, 14.30338399,\n",
              "       34.4013582 , 15.74960835, 18.37592779, 15.1280395 , 32.65188424,\n",
              "       32.19013966, 35.75448566, 15.59307451, 17.99614096, 19.32213156,\n",
              "       12.4358585 ])"
            ]
          },
          "metadata": {
            "tags": []
          },
          "execution_count": 49
        }
      ]
    },
    {
      "cell_type": "code",
      "metadata": {
        "colab": {
          "base_uri": "https://localhost:8080/"
        },
        "id": "FHWsajbnUFK-",
        "outputId": "07b3ec94-712f-44ed-c39d-415fe5bfe7cb"
      },
      "source": [
        "print(y2_pred.shape)\n",
        "print(x_test.shape)"
      ],
      "execution_count": 12,
      "outputs": [
        {
          "output_type": "stream",
          "text": [
            "(231,)\n",
            "(231, 8)\n"
          ],
          "name": "stdout"
        }
      ]
    },
    {
      "cell_type": "code",
      "metadata": {
        "colab": {
          "base_uri": "https://localhost:8080/",
          "height": 295
        },
        "id": "dvG9A30lqepG",
        "outputId": "a901fa1e-951c-47ec-8cf5-34aebfc71413"
      },
      "source": [
        "plt.scatter(x_test['RC'], y1_pred, color = \"red\")\n",
        "#plt.plot(x_test['RC'], y1_pred, color = \"green\")\n",
        "plt.title(\"RC vs HL (Training set)\")\n",
        "plt.xlabel(\"RC\")\n",
        "plt.ylabel(\"HL\")\n",
        "plt.show()"
      ],
      "execution_count": 64,
      "outputs": [
        {
          "output_type": "display_data",
          "data": {
            "image/png": "[encoded data removed]",
            "text/plain": [
              "<Figure size 432x288 with 1 Axes>"
            ]
          },
          "metadata": {
            "tags": [],
            "needs_background": "light"
          }
        }
      ]
    },
    {
      "cell_type": "code",
      "metadata": {
        "colab": {
          "base_uri": "https://localhost:8080/",
          "height": 295
        },
        "id": "Oq_5AIcQqgHd",
        "outputId": "601734f8-6999-4910-edde-0a40eb267023"
      },
      "source": [
        "plt.scatter(x_test['RC'], y2_pred, color = \"red\")\n",
        "#plt.plot(x_test['RC'], y1_pred, color = \"green\")\n",
        "plt.title(\"RC vs HL (Training set)\")\n",
        "plt.xlabel(\"RC\")\n",
        "plt.ylabel(\"HL\")\n",
        "plt.show()"
      ],
      "execution_count": 67,
      "outputs": [
        {
          "output_type": "display_data",
          "data": {
            "image/png": "[encoded data removed]",
            "text/plain": [
              "<Figure size 432x288 with 1 Axes>"
            ]
          },
          "metadata": {
            "tags": [],
            "needs_background": "light"
          }
        }
      ]
    },
    {
      "cell_type": "markdown",
      "metadata": {
        "id": "H92rqrppWTy8"
      },
      "source": [
        "**R² Y1 Accuracy**"
      ]
    },
    {
      "cell_type": "code",
      "metadata": {
        "colab": {
          "base_uri": "https://localhost:8080/"
        },
        "id": "3SZ0p-LHWpYu",
        "outputId": "a80801ec-8eb9-4a82-e6b5-2ac045037cae"
      },
      "source": [
        "r2_y1=model1.score(x_test,y1_test)\n",
        "result=str(100*r2_y1)\n",
        "print(result+\"%\")\n"
      ],
      "execution_count": 37,
      "outputs": [
        {
          "output_type": "stream",
          "text": [
            "91.18632205272034%\n"
          ],
          "name": "stdout"
        }
      ]
    },
    {
      "cell_type": "markdown",
      "metadata": {
        "id": "xdeAcsMFYIXK"
      },
      "source": [
        "**R² Y2 Accuracy**"
      ]
    },
    {
      "cell_type": "code",
      "metadata": {
        "colab": {
          "base_uri": "https://localhost:8080/"
        },
        "id": "wa6DzQwzWwOr",
        "outputId": "f7500a01-fbd3-4554-b540-4cc2eb0f5cd8"
      },
      "source": [
        "r2_y1=model2.score(x_test,y2_test)\n",
        "result=str(100*r2_y1)\n",
        "print(result+\"%\")"
      ],
      "execution_count": 38,
      "outputs": [
        {
          "output_type": "stream",
          "text": [
            "89.30673422907859%\n"
          ],
          "name": "stdout"
        }
      ]
    }
  ]
}