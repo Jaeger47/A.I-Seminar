{
  "nbformat": 4,
  "nbformat_minor": 0,
  "metadata": {
    "colab": {
      "name": "Lab_Exercise_Crash_Course_in_Python_and_SciPy.ipynb",
      "provenance": [],
      "collapsed_sections": [],
      "toc_visible": true,
      "include_colab_link": true
    },
    "kernelspec": {
      "name": "python3",
      "display_name": "Python 3"
    },
    "language_info": {
      "name": "python"
    }
  },
  "cells": [
    {
      "cell_type": "markdown",
      "metadata": {
        "id": "view-in-github",
        "colab_type": "text"
      },
      "source": [
        "<a href=\"https://colab.research.google.com/github/Jaeger47/A.I-Seminar/blob/main/Lab_Exercise_Crash_Course_in_Python_and_SciPy.ipynb\" target=\"_parent\"><img src=\"https://colab.research.google.com/assets/colab-badge.svg\" alt=\"Open In Colab\"/></a>"
      ]
    },
    {
      "cell_type": "markdown",
      "metadata": {
        "id": "aAtvJ9iaHTH1"
      },
      "source": [
        "# Lab Exercise: Crash Course in Python and SciPy\n",
        "\n",
        "This is a laboratory exercise on Python and SciPy for Day 1 of the AIML 2021 Training Workshop\n",
        "\n"
      ]
    },
    {
      "cell_type": "markdown",
      "metadata": {
        "id": "2MLmwwYrp1Pw"
      },
      "source": [
        "## Exercise 1. Basic Python (Assignment, Flow control) \n",
        "\n",
        "Complete the Python program below which accepts the user's first name, middle name, last name and gender (M/F). It should output the following string:\n",
        "\n",
        "  * Hello, _(salutation)_ _(first name)_, _(middle initial)_ _(last name)_!  \n",
        "  e.g. Hello, Mr. John D. Smith! "
      ]
    },
    {
      "cell_type": "code",
      "metadata": {
        "id": "OXDt3NdlqgE8"
      },
      "source": [
        "name = input('Enter your name in the following format: <first name>/<middle name>/<last name>/<gender: M/F> \\n')\n",
        "namelist = name.split(\"/\")                          # This splits the name string into a list using the \"/\" separator\n",
        "\n",
        "# Use flow control to select the correct salutation according to gender\n",
        "\n",
        "\n",
        "# Print the string \"Hello, (salutation) (first name) (middle initial) (last name)!\"\n"
      ],
      "execution_count": null,
      "outputs": []
    },
    {
      "cell_type": "markdown",
      "metadata": {
        "id": "MWBFgLZCCDbu"
      },
      "source": [
        "## Exercise 2. Functions\n",
        "\n",
        "Write a function that accepts an integer parameter N and returns the sum of the first N positive integers. \n",
        "\n",
        "For example:\n",
        "\n",
        "Given a user input `N = 10`, the function should return a sum of 55:  \n",
        "  `sum = 1 + 2 + 3 + 4 + 5 + 6 + 7 + 8 + 9 + 10` \n",
        "     ` = 55` "
      ]
    },
    {
      "cell_type": "code",
      "metadata": {
        "id": "MZVcClpL_clE",
        "outputId": "d1519c7c-fa50-4e86-8b26-16f5137250e6",
        "colab": {
          "base_uri": "https://localhost:8080/"
        }
      },
      "source": [
        "def sum(N):\n",
        "  # Write function definition here\n",
        "  return (N+N)\n",
        "\n",
        "print(f\"Sum of N=5: {sum(5)}\")\n",
        "print(f\"Sum of N=10: {sum(10)}\")\n",
        "print(f\"Sum of N=21: {sum(21)}\")"
      ],
      "execution_count": 17,
      "outputs": [
        {
          "output_type": "stream",
          "text": [
            "Sum of N=5: 10\n",
            "Sum of N=10: 20\n",
            "Sum of N=21: 42\n"
          ],
          "name": "stdout"
        }
      ]
    },
    {
      "cell_type": "markdown",
      "metadata": {
        "id": "u1uG4Wic4X6t"
      },
      "source": [
        "## Exercise 3. NumPy\n",
        "\n",
        "Mean absolute error (MAE) is a measure of errors between paired observations. To calculate the mean absolute error, take the absolute value of the difference between the predicted values versus the observed values, then average the differences.\n",
        "\n",
        "Write a Python program to get the mean absolute error between paired observations in the table below. \n",
        "\n",
        "| Y (predicted) | X (observed) |\n",
        "|---------------|--------------|\n",
        "|    23.00\t    |    24.00     |\n",
        "|    29.20    \t|    21.60     | \n",
        "|    29.98\t    |    34.70     |\n",
        "|    32.60\t    |    33.40     |\n",
        "|    39.78\t    |    36.20     |\n"
      ]
    },
    {
      "cell_type": "code",
      "metadata": {
        "id": "HSrSl7CEsVYG",
        "outputId": "af22c834-ab73-4606-b978-644b7b2c3fe7",
        "colab": {
          "base_uri": "https://localhost:8080/"
        }
      },
      "source": [
        "import numpy as np     # import NumPy package\n",
        "\n",
        "# Create a numpy array for each column\n",
        "\n",
        "mylist = [\n",
        "         [23.00,24.00],\n",
        "         [29.20,21.60],\n",
        "         [29.98,34.70],\n",
        "         [32.60,33.40],\n",
        "         [39.78,36.20]\n",
        "          ]\n",
        "          \n",
        "myarray = np.array(mylist)\n",
        "print(myarray)\n",
        "print(myarray.shape)  \n",
        "# Take the absolute value of the difference between y and x\n",
        "# Use the abs(value) function to return the absolute value\n",
        "\n",
        "\n",
        "# Use for loop to calculate the mean of the differences\n"
      ],
      "execution_count": 24,
      "outputs": [
        {
          "output_type": "stream",
          "text": [
            "[[23.   24.  ]\n",
            " [29.2  21.6 ]\n",
            " [29.98 34.7 ]\n",
            " [32.6  33.4 ]\n",
            " [39.78 36.2 ]]\n",
            "(5, 2)\n"
          ],
          "name": "stdout"
        }
      ]
    },
    {
      "cell_type": "markdown",
      "metadata": {
        "id": "DFXyuyISGkcF"
      },
      "source": [
        "## Exercise 4. Matplotlib\n",
        "\n",
        "The table below shows the weekly sales of each item in a fruit stand for a month. Calculate the total profit per week and show it using a line plot.\n",
        "\n",
        "| week | apple | mango | orange | banana |\n",
        "|------|-------|-------|--------|--------|\n",
        "|  1   |  960  |  1300 |  850   |  1275  |\n",
        "|  2   |  530  |  745  |  320   |  780   |\n",
        "|  3   |  625  |  560  |  495   |  810   |\n",
        "|  4   |  785  |  430  |  565   |  685   |\n",
        "\n",
        "Show the week on the x-axis and the total profit on the y-axis\n",
        "\n",
        "\n"
      ]
    },
    {
      "cell_type": "code",
      "metadata": {
        "id": "G8Dx_AzjGj-u",
        "outputId": "6b931ed2-4d4d-462b-b7e4-2cd88925f453",
        "colab": {
          "base_uri": "https://localhost:8080/",
          "height": 350
        }
      },
      "source": [
        "import numpy as np                       # import NumPy package\n",
        "import matplotlib.pyplot as plt          # import Matplotlib package\n",
        "\n",
        "# Create a numpy aray based on the table above\n",
        "mylist = [\n",
        "          [960,1300,850,1275],\n",
        "          [530,745,320,789],\n",
        "          [625,560,495,810],\n",
        "          [785,430,565,685]\n",
        "          ]\n",
        "myarray = np.array(mylist)\n",
        "print(myarray)\n",
        "print(myarray.shape)\n",
        "\n",
        "\n",
        "# Calculate the total profit per week\n",
        "np.sum(myarray, axis = 1)\n",
        "\n",
        "# Create a line plot of the total profit each week \n",
        "plt.plot(myarray)\n",
        "plt.show()"
      ],
      "execution_count": 52,
      "outputs": [
        {
          "output_type": "stream",
          "text": [
            "[[ 960 1300  850 1275]\n",
            " [ 530  745  320  789]\n",
            " [ 625  560  495  810]\n",
            " [ 785  430  565  685]]\n",
            "(4, 4)\n"
          ],
          "name": "stdout"
        },
        {
          "output_type": "display_data",
          "data": {
            "image/png": "[encoded data removed]",
            "text/plain": [
              "<Figure size 432x288 with 1 Axes>"
            ]
          },
          "metadata": {
            "tags": [],
            "needs_background": "light"
          }
        }
      ]
    },
    {
      "cell_type": "markdown",
      "metadata": {
        "id": "Yh1WDlzEXbIm"
      },
      "source": [
        "## Exercise 5. Pandas\n",
        "\n",
        "In this exercise, refer to the table in Exercise 4. "
      ]
    },
    {
      "cell_type": "code",
      "metadata": {
        "id": "9udKBVa1FunM",
        "outputId": "34b8f34c-4c0d-4418-b5d0-bc818d2f9d5e",
        "colab": {
          "base_uri": "https://localhost:8080/"
        }
      },
      "source": [
        "import pandas as pd        # import Pandas package\n",
        "\n",
        "# Create a data frame from the table given in Exercise 4.\n",
        "\n",
        "\n",
        "print(myarray)"
      ],
      "execution_count": 53,
      "outputs": [
        {
          "output_type": "stream",
          "text": [
            "[[ 960 1300  850 1275]\n",
            " [ 530  745  320  789]\n",
            " [ 625  560  495  810]\n",
            " [ 785  430  565  685]]\n"
          ],
          "name": "stdout"
        }
      ]
    },
    {
      "cell_type": "code",
      "metadata": {
        "id": "kV85SG6TrclM",
        "outputId": "133d6ab6-32fa-48d2-a0db-b00aa0f9efb0",
        "colab": {
          "base_uri": "https://localhost:8080/"
        }
      },
      "source": [
        "# Print the weekly profit of oranges using the data frame\n",
        "rownames = ['1', '2', '3', '4']\n",
        "colnames = ['apple', 'mango', 'orange','banana']\n",
        "mydataframe = pd.DataFrame(myarray, index=rownames, columns=colnames)\n",
        "#print(mydataframe)\n",
        "ages = mydataframe[\"orange\"]\n",
        "ages.head()\n",
        "print(ages)\n"
      ],
      "execution_count": 74,
      "outputs": [
        {
          "output_type": "stream",
          "text": [
            "1    850\n",
            "2    320\n",
            "3    495\n",
            "4    565\n",
            "Name: orange, dtype: int64\n"
          ],
          "name": "stdout"
        }
      ]
    }
  ]
}